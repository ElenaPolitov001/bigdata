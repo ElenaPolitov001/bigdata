{
 "cells": [
  {
   "cell_type": "code",
   "execution_count": 1,
   "metadata": {},
   "outputs": [],
   "source": [
    "import findspark"
   ]
  },
  {
   "cell_type": "code",
   "execution_count": 2,
   "metadata": {},
   "outputs": [
    {
     "name": "stdout",
     "output_type": "stream",
     "text": [
      "bin    hdp\tlib64\t share\t      src\r\n",
      "etc    include\tlibexec  spark2.3     tmp\r\n",
      "games  jdk64\tlocal\t spark2.4.3   zeppelin-0.10.1-bin-all\r\n",
      "go     lib\tsbin\t spark-3.1.2\r\n"
     ]
    }
   ],
   "source": [
    "!ls /usr"
   ]
  },
  {
   "cell_type": "code",
   "execution_count": 3,
   "metadata": {},
   "outputs": [],
   "source": [
    "findspark.init('/usr/spark2.4.3')"
   ]
  },
  {
   "cell_type": "code",
   "execution_count": 4,
   "metadata": {},
   "outputs": [],
   "source": [
    "# import pyspark # only run this after findspark.init()\n",
    "from pyspark.sql import SparkSession, SQLContext\n",
    "# from pyspark.context import SparkContext\n",
    "# from pyspark.sql.functions import * \n",
    "# from pyspark.sql.types import * \n",
    "\n",
    "spark = SparkSession.builder.appName(\"PysparkExample\").getOrCreate()\n",
    "sc = spark.sparkContext\n"
   ]
  },
  {
   "cell_type": "code",
   "execution_count": 5,
   "metadata": {},
   "outputs": [
    {
     "data": {
      "text/html": [
       "\n",
       "            <div>\n",
       "                <p><b>SparkSession - in-memory</b></p>\n",
       "                \n",
       "        <div>\n",
       "            <p><b>SparkContext</b></p>\n",
       "\n",
       "            <p><a href=\"http://cxln4.c.thelab-240901.internal:4041\">Spark UI</a></p>\n",
       "\n",
       "            <dl>\n",
       "              <dt>Version</dt>\n",
       "                <dd><code>v2.4.3</code></dd>\n",
       "              <dt>Master</dt>\n",
       "                <dd><code>local[*]</code></dd>\n",
       "              <dt>AppName</dt>\n",
       "                <dd><code>PysparkExample</code></dd>\n",
       "            </dl>\n",
       "        </div>\n",
       "        \n",
       "            </div>\n",
       "        "
      ],
      "text/plain": [
       "<pyspark.sql.session.SparkSession at 0x7f3ca09fcc50>"
      ]
     },
     "execution_count": 5,
     "metadata": {},
     "output_type": "execute_result"
    }
   ],
   "source": [
    "spark"
   ]
  },
  {
   "cell_type": "code",
   "execution_count": 6,
   "metadata": {},
   "outputs": [
    {
     "name": "stdout",
     "output_type": "stream",
     "text": [
      "Found 3 items\r\n",
      "-rw-r--r--   3 hdfs hdfs    6488666 2019-07-22 17:55 /data/mr/wordcount/big.txt\r\n",
      "drwxr-xr-x   - hdfs hdfs          0 2019-07-22 17:55 /data/mr/wordcount/input\r\n",
      "-rw-r--r--   3 hdfs hdfs      22690 2019-07-22 17:55 /data/mr/wordcount/sg-amr.jar\r\n"
     ]
    }
   ],
   "source": [
    "!hadoop fs -ls /data/mr/wordcount"
   ]
  },
  {
   "cell_type": "code",
   "execution_count": 8,
   "metadata": {},
   "outputs": [],
   "source": [
    "rdd = sc.textFile('/data/mr/wordcount/big.txt')"
   ]
  },
  {
   "cell_type": "code",
   "execution_count": 9,
   "metadata": {},
   "outputs": [
    {
     "data": {
      "text/plain": [
       "['The Project Gutenberg EBook of The Adventures of Sherlock Holmes',\n",
       " 'by Sir Arthur Conan Doyle',\n",
       " '(#15 in our series by Sir Arthur Conan Doyle)',\n",
       " '',\n",
       " 'Copyright laws are changing all over the world. Be sure to check the',\n",
       " 'copyright laws for your country before downloading or redistributing',\n",
       " 'this or any other Project Gutenberg eBook.',\n",
       " '',\n",
       " 'This header should be the first thing seen when viewing this Project',\n",
       " 'Gutenberg file.  Please do not remove it.  Do not change or edit the']"
      ]
     },
     "execution_count": 9,
     "metadata": {},
     "output_type": "execute_result"
    }
   ],
   "source": [
    "rdd.take(10)"
   ]
  },
  {
   "cell_type": "code",
   "execution_count": 10,
   "metadata": {},
   "outputs": [
    {
     "name": "stdout",
     "output_type": "stream",
     "text": [
      "128457\r\n"
     ]
    }
   ],
   "source": [
    "!hadoop fs -cat /data/mr/wordcount/big.txt|wc -l"
   ]
  },
  {
   "cell_type": "code",
   "execution_count": 11,
   "metadata": {},
   "outputs": [
    {
     "data": {
      "text/plain": [
       "128457"
      ]
     },
     "execution_count": 11,
     "metadata": {},
     "output_type": "execute_result"
    }
   ],
   "source": [
    "rdd.count()"
   ]
  },
  {
   "cell_type": "code",
   "execution_count": 51,
   "metadata": {},
   "outputs": [],
   "source": [
    "rddnum = sc.parallelize([1,2,3,4,5])"
   ]
  },
  {
   "cell_type": "code",
   "execution_count": 16,
   "metadata": {},
   "outputs": [
    {
     "data": {
      "text/plain": [
       "5"
      ]
     },
     "execution_count": 16,
     "metadata": {},
     "output_type": "execute_result"
    }
   ],
   "source": [
    "rddnum.count()"
   ]
  },
  {
   "cell_type": "code",
   "execution_count": 26,
   "metadata": {},
   "outputs": [],
   "source": [
    "# help(rddnum)\n",
    "# map, flatMap, reduce, reduceByKey, take, collect,\n",
    "# filter\n"
   ]
  },
  {
   "cell_type": "code",
   "execution_count": 44,
   "metadata": {},
   "outputs": [],
   "source": [
    "def avg(x, y): \n",
    "    a = (x+y)/2\n",
    "    print(\"computing avg of \", x, y, \": \", a)\n",
    "    return a"
   ]
  },
  {
   "cell_type": "code",
   "execution_count": 45,
   "metadata": {},
   "outputs": [
    {
     "name": "stdout",
     "output_type": "stream",
     "text": [
      "computing avg of  2 3 :  2.5\n"
     ]
    },
    {
     "data": {
      "text/plain": [
       "2.5"
      ]
     },
     "execution_count": 45,
     "metadata": {},
     "output_type": "execute_result"
    }
   ],
   "source": [
    "avg(2, 3)"
   ]
  },
  {
   "cell_type": "code",
   "execution_count": 46,
   "metadata": {},
   "outputs": [
    {
     "name": "stdout",
     "output_type": "stream",
     "text": [
      "computing avg of  1 2 :  1.5\n",
      "computing avg of  1.5 3 :  2.25\n",
      "computing avg of  2.25 4 :  3.125\n",
      "computing avg of  3.125 5 :  4.0625\n"
     ]
    },
    {
     "data": {
      "text/plain": [
       "4.0625"
      ]
     },
     "execution_count": 46,
     "metadata": {},
     "output_type": "execute_result"
    }
   ],
   "source": [
    "rddnum.reduce(avg)"
   ]
  },
  {
   "cell_type": "code",
   "execution_count": 48,
   "metadata": {},
   "outputs": [
    {
     "name": "stdout",
     "output_type": "stream",
     "text": [
      "computing avg of  1.5 4.25 :  2.875\n"
     ]
    },
    {
     "data": {
      "text/plain": [
       "2.875"
      ]
     },
     "execution_count": 48,
     "metadata": {},
     "output_type": "execute_result"
    }
   ],
   "source": [
    "rddnum.reduce(avg)"
   ]
  },
  {
   "cell_type": "code",
   "execution_count": 49,
   "metadata": {},
   "outputs": [],
   "source": [
    "def add(x, y):\n",
    "    res = x + y\n",
    "    print(\"Add called on \", x, y, \": \", res)\n",
    "    return res\n"
   ]
  },
  {
   "cell_type": "code",
   "execution_count": 59,
   "metadata": {},
   "outputs": [
    {
     "name": "stdout",
     "output_type": "stream",
     "text": [
      "Add called on  1 2 :  3\n",
      "Add called on  3 3 :  6\n",
      "Add called on  6 4 :  10\n",
      "Add called on  10 5 :  15\n"
     ]
    }
   ],
   "source": [
    "total = rddnum.reduce(add)"
   ]
  },
  {
   "cell_type": "code",
   "execution_count": 53,
   "metadata": {},
   "outputs": [],
   "source": [
    "def to_count(x):\n",
    "    print(\"To count: called on \", x)\n",
    "    return 1\n"
   ]
  },
  {
   "cell_type": "code",
   "execution_count": 58,
   "metadata": {},
   "outputs": [
    {
     "name": "stdout",
     "output_type": "stream",
     "text": [
      "Add called on  1 1 :  2\n",
      "Add called on  2 1 :  3\n",
      "Add called on  3 1 :  4\n",
      "Add called on  4 1 :  5\n"
     ]
    }
   ],
   "source": [
    "cnt = rddnum.map(to_count).reduce(add)"
   ]
  },
  {
   "cell_type": "code",
   "execution_count": 60,
   "metadata": {},
   "outputs": [
    {
     "data": {
      "text/plain": [
       "3.0"
      ]
     },
     "execution_count": 60,
     "metadata": {},
     "output_type": "execute_result"
    }
   ],
   "source": [
    "total/cnt"
   ]
  },
  {
   "cell_type": "code",
   "execution_count": 62,
   "metadata": {},
   "outputs": [],
   "source": [
    "def totuple(x):\n",
    "    return (x, 1)\n"
   ]
  },
  {
   "cell_type": "code",
   "execution_count": 66,
   "metadata": {},
   "outputs": [],
   "source": [
    "tuple_rdd = rddnum.map(totuple)"
   ]
  },
  {
   "cell_type": "code",
   "execution_count": 73,
   "metadata": {},
   "outputs": [],
   "source": [
    "def addtuple(t1, t2):\n",
    "    print(\"Adding: \", t1, t2)\n",
    "    tot = t1[0] + t2[0]\n",
    "    cnt = t1[1] + t2[1]\n",
    "    print(\"    => \", (tot, cnt))\n",
    "    return (tot, cnt)"
   ]
  },
  {
   "cell_type": "code",
   "execution_count": 68,
   "metadata": {},
   "outputs": [
    {
     "data": {
      "text/plain": [
       "(14, 5)"
      ]
     },
     "execution_count": 68,
     "metadata": {},
     "output_type": "execute_result"
    }
   ],
   "source": [
    "addtuple((4, 2), (10, 3))"
   ]
  },
  {
   "cell_type": "code",
   "execution_count": 131,
   "metadata": {},
   "outputs": [
    {
     "data": {
      "text/plain": [
       "[(1, 1), (2, 1), (3, 1), (4, 1), (5, 1)]"
      ]
     },
     "execution_count": 131,
     "metadata": {},
     "output_type": "execute_result"
    }
   ],
   "source": [
    "tuple_rdd.take(10)"
   ]
  },
  {
   "cell_type": "code",
   "execution_count": 129,
   "metadata": {},
   "outputs": [
    {
     "name": "stdout",
     "output_type": "stream",
     "text": [
      "Adding:  (1, 1) (2, 1)\n",
      "    =>  (3, 2)\n",
      "Adding:  (3, 2) (3, 1)\n",
      "    =>  (6, 3)\n",
      "Adding:  (6, 3) (4, 1)\n",
      "    =>  (10, 4)\n",
      "Adding:  (10, 4) (5, 1)\n",
      "    =>  (15, 5)\n"
     ]
    }
   ],
   "source": [
    "tot, cnt = tuple_rdd.reduce(addtuple)"
   ]
  },
  {
   "cell_type": "code",
   "execution_count": 130,
   "metadata": {},
   "outputs": [
    {
     "name": "stdout",
     "output_type": "stream",
     "text": [
      "Adding:  (0, 0) (0, 0)\n",
      "    =>  (0, 0)\n",
      "Adding:  (0, 0) (1, 1)\n",
      "    =>  (1, 1)\n",
      "Adding:  (1, 1) (2, 1)\n",
      "    =>  (3, 2)\n",
      "Adding:  (3, 2) (3, 1)\n",
      "    =>  (6, 3)\n",
      "Adding:  (6, 3) (4, 1)\n",
      "    =>  (10, 4)\n",
      "Adding:  (10, 4) (5, 1)\n",
      "    =>  (15, 5)\n"
     ]
    }
   ],
   "source": [
    "tot, cnt = tuple_rdd.fold((0,0), addtuple)"
   ]
  },
  {
   "cell_type": "code",
   "execution_count": 71,
   "metadata": {
    "scrolled": true
   },
   "outputs": [
    {
     "data": {
      "text/plain": [
       "3.0"
      ]
     },
     "execution_count": 71,
     "metadata": {},
     "output_type": "execute_result"
    }
   ],
   "source": [
    "tot/cnt"
   ]
  },
  {
   "cell_type": "code",
   "execution_count": 77,
   "metadata": {},
   "outputs": [],
   "source": [
    "# rddnum.aggregate?"
   ]
  },
  {
   "cell_type": "code",
   "execution_count": 78,
   "metadata": {},
   "outputs": [],
   "source": [
    "# sc.parallelize([]).aggregate((0, 0), seqOp, combOp)"
   ]
  },
  {
   "cell_type": "code",
   "execution_count": 86,
   "metadata": {},
   "outputs": [],
   "source": [
    "def seqOp(tpl, x):\n",
    "    print(\"SeqOp: \", tpl, x)\n",
    "    tot, cnt = tpl\n",
    "    return (tot + x, cnt+1)"
   ]
  },
  {
   "cell_type": "code",
   "execution_count": 89,
   "metadata": {},
   "outputs": [],
   "source": [
    "def combOp(t1, t2):\n",
    "    print(\"comOp: \", t1, t2)\n",
    "    tot1, cnt1 = t1\n",
    "    tot2, cnt2 = t2\n",
    "    return (tot1 + tot2, cnt1 + cnt2)"
   ]
  },
  {
   "cell_type": "code",
   "execution_count": 95,
   "metadata": {},
   "outputs": [],
   "source": [
    "rddnum = sc.parallelize([1,2,3,4,5])"
   ]
  },
  {
   "cell_type": "code",
   "execution_count": 96,
   "metadata": {},
   "outputs": [
    {
     "name": "stdout",
     "output_type": "stream",
     "text": [
      "comOp:  (0, 0) (0, 0)\n",
      "comOp:  (0, 0) (1, 1)\n",
      "comOp:  (1, 1) (2, 1)\n",
      "comOp:  (3, 2) (3, 1)\n",
      "comOp:  (6, 3) (4, 1)\n",
      "comOp:  (10, 4) (5, 1)\n"
     ]
    },
    {
     "data": {
      "text/plain": [
       "(15, 5)"
      ]
     },
     "execution_count": 96,
     "metadata": {},
     "output_type": "execute_result"
    }
   ],
   "source": [
    "rddnum.aggregate((0,0), seqOp, combOp)"
   ]
  },
  {
   "cell_type": "code",
   "execution_count": 127,
   "metadata": {},
   "outputs": [
    {
     "data": {
      "text/plain": [
       "[1, 2, 3, 4, 5]"
      ]
     },
     "execution_count": 127,
     "metadata": {},
     "output_type": "execute_result"
    }
   ],
   "source": [
    "rddnum.take(10)\n",
    "# rddnum.fold(zeroValue, op)"
   ]
  },
  {
   "cell_type": "code",
   "execution_count": null,
   "metadata": {},
   "outputs": [],
   "source": []
  },
  {
   "cell_type": "code",
   "execution_count": 125,
   "metadata": {},
   "outputs": [],
   "source": [
    "def myfold_add2tpl(t1, t2):\n",
    "    \n",
    "    return (cnt, tot)"
   ]
  },
  {
   "cell_type": "code",
   "execution_count": 126,
   "metadata": {},
   "outputs": [
    {
     "name": "stdout",
     "output_type": "stream",
     "text": [
      "Adding  (0, 0) ;; (0, 0)\n",
      "tot:  0\n",
      "Result:  (0, 0)\n",
      "Adding  (0, 0) ;; (0, 0)\n",
      "tot:  0\n",
      "Result:  (0, 0)\n",
      "Adding  (0, 0) ;; (0, 0)\n",
      "tot:  0\n",
      "Result:  (0, 0)\n",
      "Adding  (0, 0) ;; (0, 0)\n",
      "tot:  0\n",
      "Result:  (0, 0)\n",
      "Adding  (0, 0) ;; (0, 0)\n",
      "tot:  0\n",
      "Result:  (0, 0)\n",
      "Adding  (0, 0) ;; (0, 0)\n",
      "tot:  0\n",
      "Result:  (0, 0)\n"
     ]
    },
    {
     "data": {
      "text/plain": [
       "(0, 0)"
      ]
     },
     "execution_count": 126,
     "metadata": {},
     "output_type": "execute_result"
    }
   ],
   "source": [
    "rddnum.fold((0,0), myfold_add2tpl)"
   ]
  },
  {
   "cell_type": "code",
   "execution_count": 128,
   "metadata": {},
   "outputs": [],
   "source": [
    "rddnum.fold?"
   ]
  },
  {
   "cell_type": "code",
   "execution_count": 132,
   "metadata": {},
   "outputs": [],
   "source": [
    "myrdd = sc.parallelize(range(1,10), 2)"
   ]
  },
  {
   "cell_type": "code",
   "execution_count": 133,
   "metadata": {},
   "outputs": [
    {
     "data": {
      "text/plain": [
       "[1, 2, 3, 4, 5, 6, 7, 8, 9]"
      ]
     },
     "execution_count": 133,
     "metadata": {},
     "output_type": "execute_result"
    }
   ],
   "source": [
    "myrdd.collect()\n"
   ]
  },
  {
   "cell_type": "code",
   "execution_count": 135,
   "metadata": {},
   "outputs": [],
   "source": [
    "\n",
    "#myrdd1 = myrdd.map(_.toString)\n",
    "myrdd1 = myrdd.map(lambda x: str(x))"
   ]
  },
  {
   "cell_type": "code",
   "execution_count": 136,
   "metadata": {},
   "outputs": [
    {
     "data": {
      "text/plain": [
       "['1', '2', '3', '4', '5', '6', '7', '8', '9']"
      ]
     },
     "execution_count": 136,
     "metadata": {},
     "output_type": "execute_result"
    }
   ],
   "source": [
    "myrdd1.collect()"
   ]
  },
  {
   "cell_type": "code",
   "execution_count": 137,
   "metadata": {},
   "outputs": [],
   "source": [
    "# def concat(s:String, n:String):String = s + n\n",
    "\n",
    "def concat(s, n):\n",
    "    return s + n"
   ]
  },
  {
   "cell_type": "code",
   "execution_count": 138,
   "metadata": {},
   "outputs": [],
   "source": [
    "s = \"_\""
   ]
  },
  {
   "cell_type": "code",
   "execution_count": 139,
   "metadata": {},
   "outputs": [
    {
     "data": {
      "text/plain": [
       "'__1234_56789'"
      ]
     },
     "execution_count": 139,
     "metadata": {},
     "output_type": "execute_result"
    }
   ],
   "source": [
    "myrdd1.fold(s, concat)"
   ]
  },
  {
   "cell_type": "code",
   "execution_count": null,
   "metadata": {},
   "outputs": [],
   "source": []
  }
 ],
 "metadata": {
  "kernelspec": {
   "display_name": "Python 3",
   "language": "python",
   "name": "python3"
  },
  "language_info": {
   "codemirror_mode": {
    "name": "ipython",
    "version": 3
   },
   "file_extension": ".py",
   "mimetype": "text/x-python",
   "name": "python",
   "nbconvert_exporter": "python",
   "pygments_lexer": "ipython3",
   "version": "3.6.8"
  },
  "toc": {
   "base_numbering": 1,
   "nav_menu": {},
   "number_sections": true,
   "sideBar": true,
   "skip_h1_title": false,
   "title_cell": "Table of Contents",
   "title_sidebar": "Contents",
   "toc_cell": false,
   "toc_position": {},
   "toc_section_display": true,
   "toc_window_display": false
  }
 },
 "nbformat": 4,
 "nbformat_minor": 2
}
